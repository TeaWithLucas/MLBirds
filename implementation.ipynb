{
  "nbformat": 4,
  "nbformat_minor": 0,
  "metadata": {
    "colab": {
      "name": "implementation.ipynb",
      "provenance": [],
      "authorship_tag": "ABX9TyMnEQKwgPg7MQFUCNa7G121",
      "include_colab_link": true
    },
    "kernelspec": {
      "name": "python3",
      "display_name": "Python 3"
    },
    "language_info": {
      "name": "python"
    }
  },
  "cells": [
    {
      "cell_type": "markdown",
      "metadata": {
        "id": "view-in-github",
        "colab_type": "text"
      },
      "source": [
        "<a href=\"https://colab.research.google.com/github/TeaWithLucas/MLBirds/blob/main/implementation.ipynb\" target=\"_parent\"><img src=\"https://colab.research.google.com/assets/colab-badge.svg\" alt=\"Open In Colab\"/></a>"
      ]
    },
    {
      "cell_type": "code",
      "metadata": {
        "id": "YZGObyQQHh57"
      },
      "source": [
        "import pandas as pd\n",
        "import matplotlib.pyplot as plt\n",
        "import os\n",
        "import shutil\n",
        "import cv2\n",
        "import numpy as np\n",
        "import re\n",
        "import seaborn as sns\n",
        "import operator\n",
        "from IPython import get_ipython\n",
        "ipy = get_ipython()\n",
        "if ipy is not None:\n",
        "    ipy.run_line_magic('matplotlib', 'inline')"
      ],
      "execution_count": null,
      "outputs": []
    },
    {
      "cell_type": "code",
      "metadata": {
        "id": "vqLgJ8uQHm3M"
      },
      "source": [
        "git_fldr = '/content/MLBirds/'\n",
        "\n",
        "if os.path.exists(git_fldr):\n",
        "  %cd '/content/MLBirds/'\n",
        "  !git pull\n",
        "else:\n",
        "  !git clone https://github.com/TeaWithLucas/MLBirds.git\n",
        "  %cd '/content/MLBirds/'\n",
        "\n",
        "import data_load as data"
      ],
      "execution_count": null,
      "outputs": []
    },
    {
      "cell_type": "markdown",
      "metadata": {
        "id": "QKHYhaLUHpvG"
      },
      "source": [
        ""
      ]
    }
  ]
}